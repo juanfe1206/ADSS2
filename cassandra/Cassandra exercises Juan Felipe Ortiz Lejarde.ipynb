{
 "cells": [
  {
   "cell_type": "markdown",
   "metadata": {},
   "source": [
    "# Advanced Data Structures and Storage\n",
    "## Session 20 (Exercises on Column-Family Databases)\n",
    "\n",
    "*Submit your solutions in the Blackboard. I will ask some of you to discuss your solutions in class next session.*"
   ]
  },
  {
   "attachments": {},
   "cell_type": "markdown",
   "metadata": {},
   "source": [
    "## Part 1\n",
    "\n",
    "Fire up a *Cassandra Query Language* (CQL) session as follows:\n",
    "\n",
    "- Go to [DataStax](https://www.datastax.com/dev) and select \"Try free\"\n",
    "- Login (and fill the form, if requested)\n",
    "- Select `Create Database`\n",
    "- As database name and keyspace name, use `twitter`\n",
    "- Choose your favorite provider and your closest region\n",
    "- Wait a minute until the database is up and running\n",
    "- Select the tab `CQL Console` above\n",
    "- Activate the keyspace with the USE command (see session 19's slides).\n",
    "\n",
    "**OR**\n",
    "\n",
    "- Head over to [Github Codespaces](github.com/codespaces)\n",
    "- Run `docker pull cassandra` and `docker run -d cassandra`\n",
    "  - If you re-open the codespace after a while, you may need to run `docker ps -a` and `docker start <container_name>` to start the container again\n",
    "- Run `pip install cassandra-driver`\n",
    "- Make sure the Cassandra demo notebook is running"
   ]
  },
  {
   "cell_type": "code",
   "execution_count": 1,
   "metadata": {},
   "outputs": [],
   "source": [
    "import cassandra"
   ]
  },
  {
   "attachments": {},
   "cell_type": "markdown",
   "metadata": {},
   "source": [
    "## Part 2\n",
    "\n",
    "We want to model a database that stores [X (formerly Twitter)](https://twitter.com) users and the tweets they post. So far, there are two users and two tweets. In SQL, they would be stored using these tables:\n",
    "\n",
    "*USERS table:*\n",
    "\n",
    "| Author handle *(primary key)* \t| Author name \t| E-mail         \t|\n",
    "|----------------------\t|----------------\t|----------------\t|\n",
    "| @john                \t| John Doe       \t| john@gmail.com \t|\n",
    "| @jane                \t| Jane Doe       \t| jane@gmail.com \t|\n",
    "\n",
    "*TWEETS table:*\n",
    "\n",
    "| Tweet ID *(primary key)* \t| Author handle \t| Body                   \t|\n",
    "|------------------------\t|---------------\t|------------------------\t|\n",
    "| 19000                  \t| @jane         \t| \"My first tweet\"       \t|\n",
    "| 34500                  \t| @jane         \t| \"I got the hang of it\" \t|\n",
    "\n",
    "*If we want to display one tweet, how many tables do we need to traverse?* Justify your answer.\n",
    "\n",
    "Hint: in case you're not familiar with Twitter, have a look at it to make sure you **understand what information is shown in a tweet**."
   ]
  },
  {
   "cell_type": "markdown",
   "metadata": {},
   "source": [
    "### An usual tweet usually is composed of 3 things: The body, the author handle and the Author name. Thus, to be able to show one tweet we would have to traverse 2 tables. Th tweets table for the author handle and body and then the users table to get the author name."
   ]
  },
  {
   "attachments": {},
   "cell_type": "markdown",
   "metadata": {},
   "source": [
    "## Part 3\n",
    "\n",
    "*How would you model that small database using Cassandra*? Hint: use two tables. Follow the principle that \"columns that are *used* together should be put together\". Using your model, *how many tables do we need to traverse to display one tweet?*\n",
    "\n",
    "You can put a screenshot of an Excel spreadsheet (bonus: [write the tables in Markdown format](https://www.tablesgenerator.com/markdown_tables))."
   ]
  },
  {
   "cell_type": "markdown",
   "metadata": {},
   "source": [
    "### users Table\n",
    "\n",
    "| author_handle | author_name | email           |\n",
    "|---------------|-------------|-----------------|\n",
    "| @john         | John Doe    | john@gmail.com  |\n",
    "| @jane         | Jane Doe    | jane@gmail.com  |\n",
    "\n",
    "### tweets Table\n",
    "\n",
    "| tweet_id | author_handle | author_name | tweet_body        |\n",
    "|----------|---------------|-------------|-------------------|\n",
    "| 19000    | @jane         | Jane Doe    | My first tweet    |\n",
    "| 34500    | @jane         | Jane Doe    | I got the hang of it |\n"
   ]
  },
  {
   "attachments": {},
   "cell_type": "markdown",
   "metadata": {},
   "source": [
    "## Part 4\n",
    "\n",
    "Create your two tables in Cassandra and fill them up with all available data records from Part 2. Paste your CQL code here."
   ]
  },
  {
   "cell_type": "code",
   "execution_count": 20,
   "metadata": {},
   "outputs": [],
   "source": [
    "from cassandra.cluster import Cluster\n",
    "\n",
    "cluster = Cluster(['172.17.0.2'])\n",
    "session = cluster.connect()\n",
    "\n",
    "session.execute(\"\"\"\n",
    "CREATE KEYSPACE IF NOT EXISTS adss\n",
    "WITH replication = { 'class': 'SimpleStrategy', 'replication_factor': '1' }\n",
    "\"\"\")\n",
    "\n",
    "session.set_keyspace('adss')"
   ]
  },
  {
   "cell_type": "code",
   "execution_count": 21,
   "metadata": {},
   "outputs": [
    {
     "data": {
      "text/plain": [
       "<cassandra.cluster.ResultSet at 0x7f1ae9579660>"
      ]
     },
     "execution_count": 21,
     "metadata": {},
     "output_type": "execute_result"
    }
   ],
   "source": [
    "#Lets start creating the tables\n",
    "\n",
    "session.execute(\n",
    "\"\"\"\n",
    "CREATE TABLE IF NOT EXISTS tweets (tweet_id int PRIMARY KEY, author_handle text , author_name text, tweet_body text);\n",
    "\"\"\"\n",
    ")\n",
    "\n",
    "session.execute(\n",
    "\"\"\"\n",
    "CREATE TABLE IF NOT EXISTS users (author_handle text PRIMARY KEY, author_name text, email text);\n",
    "\"\"\"\n",
    ")"
   ]
  },
  {
   "cell_type": "code",
   "execution_count": 22,
   "metadata": {},
   "outputs": [],
   "source": [
    "#Add the rows to the tables\n",
    "result = session.execute(\n",
    "\"\"\"\n",
    "INSERT INTO tweets (tweet_id, author_handle, author_name, tweet_body) VALUES (19000, '@jane', 'Jane Doe', 'My first tweet');\n",
    "\"\"\"\n",
    ")\n",
    "\n",
    "result = session.execute(\n",
    "\"\"\"\n",
    "INSERT INTO tweets (tweet_id, author_handle, author_name, tweet_body) VALUES (34500, '@jane', 'Jane Doe', 'I got the hang of it');\n",
    "\"\"\"\n",
    ")\n",
    "\n",
    "result = session.execute(\n",
    "\"\"\"\n",
    "INSERT INTO users (author_handle, author_name, email) VALUES ('@john', 'John Doe', 'john@gmail.com');\n",
    "\"\"\"\n",
    ")\n",
    "\n",
    "result = session.execute(\n",
    "\"\"\"\n",
    "INSERT INTO users (author_handle, author_name, email) VALUES ('@jane', 'Jane Doe', 'jane@gmail.com');\n",
    "\"\"\"\n",
    ")\n",
    "\n"
   ]
  },
  {
   "attachments": {},
   "cell_type": "markdown",
   "metadata": {},
   "source": [
    "## Part 5\n",
    "\n",
    "Use CQL to print the contents of both tables."
   ]
  },
  {
   "cell_type": "code",
   "execution_count": 23,
   "metadata": {},
   "outputs": [
    {
     "name": "stdout",
     "output_type": "stream",
     "text": [
      "[Row(tweet_id=19000, author_handle='@jane', author_name='Jane Doe', tweet_body='My first tweet'), Row(tweet_id=34500, author_handle='@jane', author_name='Jane Doe', tweet_body='I got the hang of it')]\n"
     ]
    }
   ],
   "source": [
    "#Check tweets table\n",
    "result = session.execute(\n",
    "\"\"\"\n",
    "SELECT * FROM tweets;\n",
    "\"\"\"\n",
    ")\n",
    "print(list(result))"
   ]
  },
  {
   "cell_type": "code",
   "execution_count": 24,
   "metadata": {},
   "outputs": [
    {
     "name": "stdout",
     "output_type": "stream",
     "text": [
      "[Row(author_handle='@jane', author_name='Jane Doe', email='jane@gmail.com'), Row(author_handle='@john', author_name='John Doe', email='john@gmail.com')]\n"
     ]
    }
   ],
   "source": [
    "#Check users table\n",
    "result = session.execute(\n",
    "\"\"\"\n",
    "SELECT * FROM users;\n",
    "\"\"\"\n",
    ")\n",
    "print(list(result))"
   ]
  },
  {
   "attachments": {},
   "cell_type": "markdown",
   "metadata": {},
   "source": [
    "## Part 6\n",
    "\n",
    "Write CQL code that retrieves Jane's tweets.\n",
    "\n",
    "Hint: see the second to last slide from Session 19 (\"Efficient Data Selection\").\n",
    "\n",
    "Bonus: make it work without filtering."
   ]
  },
  {
   "cell_type": "code",
   "execution_count": 31,
   "metadata": {},
   "outputs": [
    {
     "name": "stdout",
     "output_type": "stream",
     "text": [
      "[Row(tweet_id=19000, author_handle='@jane', author_name='Jane Doe', tweet_body='My first tweet'), Row(tweet_id=34500, author_handle='@jane', author_name='Jane Doe', tweet_body='I got the hang of it')]\n"
     ]
    }
   ],
   "source": [
    "result = session.execute(\n",
    "    '''\n",
    "    SELECT * FROM tweets WHERE author_handle = '@jane' ALLOW FILTERING\n",
    "    '''\n",
    ")\n",
    "\n",
    "print(list(result))"
   ]
  },
  {
   "cell_type": "code",
   "execution_count": 32,
   "metadata": {},
   "outputs": [
    {
     "data": {
      "text/plain": [
       "<cassandra.cluster.ResultSet at 0x7f1ae9694970>"
      ]
     },
     "execution_count": 32,
     "metadata": {},
     "output_type": "execute_result"
    }
   ],
   "source": [
    "session.execute(\n",
    "    '''\n",
    "    CREATE INDEX IF NOT EXISTS handle ON tweets (author_handle)\n",
    "    '''\n",
    ")"
   ]
  },
  {
   "cell_type": "code",
   "execution_count": 33,
   "metadata": {},
   "outputs": [
    {
     "name": "stdout",
     "output_type": "stream",
     "text": [
      "[Row(tweet_id=19000, author_handle='@jane', author_name='Jane Doe', tweet_body='My first tweet'), Row(tweet_id=34500, author_handle='@jane', author_name='Jane Doe', tweet_body='I got the hang of it')]\n"
     ]
    }
   ],
   "source": [
    "result = session.execute(\n",
    "    '''\n",
    "    SELECT * FROM tweets WHERE author_handle = '@jane'\n",
    "    '''\n",
    ")\n",
    "\n",
    "print(list(result))"
   ]
  },
  {
   "attachments": {},
   "cell_type": "markdown",
   "metadata": {},
   "source": [
    "## Part 7\n",
    "\n",
    "Denormalize the two tables from Part 2 into a single, wider table with five rows. Use `n/a` where necessary.\n",
    "\n",
    "Hint: see the slide *\"Cassandra Denormalization Example\"* from Session 19."
   ]
  },
  {
   "cell_type": "markdown",
   "metadata": {},
   "source": [
    "| author_handle | author_name |  email         | tweet_id| tweet_body        |\n",
    "|---------------|-------------|----------------|---------|-------------------|\n",
    "| @jane         | Jane Doe    | jane@gmail.com |19000    | My first tweet    |\n",
    "| @jane         | Jane Doe    | jane@gmail.com |34500    | I got the hang of it |\n",
    "| @john         | John Doe    | john@gmail.com | n/a     | n/a               | "
   ]
  }
 ],
 "metadata": {
  "kernelspec": {
   "display_name": "Python 3.9.7 ('base')",
   "language": "python",
   "name": "python3"
  },
  "language_info": {
   "codemirror_mode": {
    "name": "ipython",
    "version": 3
   },
   "file_extension": ".py",
   "mimetype": "text/x-python",
   "name": "python",
   "nbconvert_exporter": "python",
   "pygments_lexer": "ipython3",
   "version": "3.10.13"
  },
  "vscode": {
   "interpreter": {
    "hash": "554939b42c1098b93c4e1fc6d2c88475b2c23298a84305ed23f1aecddaf0788f"
   }
  }
 },
 "nbformat": 4,
 "nbformat_minor": 4
}
