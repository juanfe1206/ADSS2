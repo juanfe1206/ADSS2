{
 "cells": [
  {
   "cell_type": "markdown",
   "metadata": {},
   "source": [
    "# Advanced Data Structures and Storage\n",
    "\n",
    "## Recap Exercises -- Caching & Key-value Databases"
   ]
  },
  {
   "cell_type": "markdown",
   "metadata": {},
   "source": [
    "### Part 1\n",
    "\n",
    "What is the temporal locality principle? Finish the sentence: \"If right now I need to use a piece of data $x$, it is likely that _______________________________\"\n",
    "\n",
    "Can you think of a real-life example where we need to read/use data and there is temporal locality?"
   ]
  },
  {
   "cell_type": "markdown",
   "metadata": {},
   "source": [
    "### Part 2\n",
    "\n",
    "In class, we looked at a cache of size 3 that stored the last-accessed capital cities and their countries: `'Madrid'`: `'Spain'`, `'Paris'`: `France'`, etc. Does this cache use spatial locality or temporal locality? Why?"
   ]
  },
  {
   "cell_type": "markdown",
   "metadata": {},
   "source": [
    "### Part 3\n",
    "\n",
    "We have this Python dictionary: \n",
    "\n",
    "`capitals = {'Madrid': 'Spain', 'Paris': 'France', 'Rome': 'Italy'}`\n",
    "\n",
    "Can you think of a way to store the same information in a Python set? Write it in code."
   ]
  },
  {
   "cell_type": "markdown",
   "metadata": {},
   "source": [
    "### Part 4\n",
    "\n",
    "Key-value databases (like the dictionary capitals in the previous question) are very efficient for searching by key. They are not so great for searching by value, but it is possible if needed by looping over all keys.\n",
    "\n",
    "Write Python code that finds and prints the capital of Italy from the dictionary capitals."
   ]
  }
 ],
 "metadata": {
  "kernelspec": {
   "display_name": "Python 3.9.7 ('base')",
   "language": "python",
   "name": "python3"
  },
  "language_info": {
   "codemirror_mode": {
    "name": "ipython",
    "version": 3
   },
   "file_extension": ".py",
   "mimetype": "text/x-python",
   "name": "python",
   "nbconvert_exporter": "python",
   "pygments_lexer": "ipython3",
   "version": "3.9.7"
  },
  "vscode": {
   "interpreter": {
    "hash": "554939b42c1098b93c4e1fc6d2c88475b2c23298a84305ed23f1aecddaf0788f"
   }
  }
 },
 "nbformat": 4,
 "nbformat_minor": 4
}
