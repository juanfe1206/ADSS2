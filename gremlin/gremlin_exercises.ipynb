{
 "cells": [
  {
   "cell_type": "markdown",
   "metadata": {},
   "source": [
    "# Gremlin Exercises"
   ]
  },
  {
   "cell_type": "markdown",
   "metadata": {},
   "source": [
    "1. How many airports are there in Spain? (country='ES')"
   ]
  },
  {
   "cell_type": "markdown",
   "metadata": {},
   "source": [
    "2. What's the elevation ('elev') of Barajas airport (code='MAD')?\n",
    "\n",
    "*(note that the elevations are given in feet)*"
   ]
  },
  {
   "cell_type": "markdown",
   "metadata": {},
   "source": [
    "3. How many routes depart from Barajas?"
   ]
  },
  {
   "cell_type": "markdown",
   "metadata": {},
   "source": [
    "4. How many domestic flights are there in Spain?"
   ]
  },
  {
   "cell_type": "markdown",
   "metadata": {},
   "source": [
    "5. What's the country code for Australia?\n",
    "\n",
    "Hint: you can use `.valueMap(true)` to find all values of a node."
   ]
  },
  {
   "cell_type": "markdown",
   "metadata": {},
   "source": [
    "6. Can I fly directly to Australia from Madrid?"
   ]
  },
  {
   "cell_type": "markdown",
   "metadata": {},
   "source": [
    "7. Can I fly Madrid -> Australia with 1 stopover?"
   ]
  },
  {
   "cell_type": "markdown",
   "metadata": {},
   "source": [
    "8. What country has the most elevated airport?"
   ]
  },
  {
   "cell_type": "markdown",
   "metadata": {},
   "source": [
    "9. How many airports are there in Europe?"
   ]
  },
  {
   "cell_type": "markdown",
   "metadata": {},
   "source": [
    "10. How many flights cross the Equator?"
   ]
  },
  {
   "cell_type": "markdown",
   "metadata": {},
   "source": [
    "## PageRank\n",
    "\n",
    "*PageRank* is an algorithm for calculating the importance of each node in a graph. It is the algorithm that brought Google to stardom in the early 2000's.\n",
    "\n",
    "PageRank works as follows: if many nodes point to a node $X$, this means that $X$ is important. Furthermore, if many *important* nodes point to $X$, this makes $X$ even more important. So if the New York Times links to your blog, this will make your blog rank much higher in Google than if you link to yourself.\n",
    "\n",
    "We can run PageRank in Gremlin for our airports as follows:\n",
    "\n",
    "`g.withComputer().V().has('type','airport').pageRank()`\n",
    "\n",
    "Based on that, your task is:\n",
    "\n",
    "11. Print the top most important airports along with their PageRank score."
   ]
  }
 ],
 "metadata": {
  "kernelspec": {
   "display_name": "Python 3",
   "language": "python",
   "name": "python3"
  },
  "language_info": {
   "name": "python",
   "version": "3.10.13"
  }
 },
 "nbformat": 4,
 "nbformat_minor": 2
}
