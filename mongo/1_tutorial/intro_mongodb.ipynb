{
 "cells": [
  {
   "cell_type": "markdown",
   "metadata": {},
   "source": [
    "# Introduction to MongoDB and `pymongo`\n",
    "\n",
    "We will do some basic operations on a toy database (`students.json`)."
   ]
  },
  {
   "cell_type": "markdown",
   "metadata": {},
   "source": [
    "## Import libraries: JSON, pymongo"
   ]
  },
  {
   "cell_type": "code",
   "execution_count": 1,
   "metadata": {},
   "outputs": [],
   "source": [
    "import json\n",
    "from pymongo import MongoClient"
   ]
  },
  {
   "cell_type": "markdown",
   "metadata": {},
   "source": [
    "## Open and reset the database"
   ]
  },
  {
   "cell_type": "code",
   "execution_count": 2,
   "metadata": {},
   "outputs": [
    {
     "name": "stdout",
     "output_type": "stream",
     "text": [
      "db is a <class 'pymongo.database.Database'>\n",
      "db.collection is a <class 'pymongo.collection.Collection'>\n"
     ]
    }
   ],
   "source": [
    "client = MongoClient('localhost', 27017)\n",
    "db = client.my_database\n",
    "db.collection.drop()  # This clears the collection\n",
    "print('db is a', type(db))\n",
    "print('db.collection is a', type(db.collection))"
   ]
  },
  {
   "cell_type": "markdown",
   "metadata": {},
   "source": [
    "## Load the JSON file (\"students.json\") into our database"
   ]
  },
  {
   "cell_type": "code",
   "execution_count": 4,
   "metadata": {},
   "outputs": [],
   "source": [
    "with open('students.json', 'r') as data_file:  # Remember to change the file path as needed\n",
    "    data_json = json.load(data_file)\n",
    "    db.collection.insert_many(data_json)"
   ]
  },
  {
   "cell_type": "markdown",
   "metadata": {},
   "source": [
    "# Search queries\n",
    "\n",
    "We can do queries using the function `find(query)`, where `query` must be a dictionary."
   ]
  },
  {
   "cell_type": "markdown",
   "metadata": {},
   "source": [
    "## Get all documents\n",
    "\n",
    "To retrieve all documents in a collection, you can pass an empty query:"
   ]
  },
  {
   "cell_type": "code",
   "execution_count": 5,
   "metadata": {},
   "outputs": [
    {
     "data": {
      "text/plain": [
       "[{'_id': 1,\n",
       "  'name': 'John',\n",
       "  'age': 22,\n",
       "  'city': 'Madrid',\n",
       "  'sports': ['soccer', 'handball']},\n",
       " {'_id': 2, 'name': 'Steve', 'age': 24, 'city': 'Segovia'},\n",
       " {'_id': 3,\n",
       "  'name': 'Marta',\n",
       "  'age': 21,\n",
       "  'city': 'Madrid',\n",
       "  'sports': ['handball', 'basketball']}]"
      ]
     },
     "execution_count": 5,
     "metadata": {},
     "output_type": "execute_result"
    }
   ],
   "source": [
    "list(db.collection.find(\n",
    "    {}\n",
    "))"
   ]
  },
  {
   "cell_type": "markdown",
   "metadata": {},
   "source": [
    "## Find documents by field\n",
    "\n",
    "To filter by a specific key value, pass it in the `query` dictionary. Let's get all students that come from Madrid:"
   ]
  },
  {
   "cell_type": "code",
   "execution_count": 6,
   "metadata": {},
   "outputs": [
    {
     "data": {
      "text/plain": [
       "[{'_id': 1,\n",
       "  'name': 'John',\n",
       "  'age': 22,\n",
       "  'city': 'Madrid',\n",
       "  'sports': ['soccer', 'handball']},\n",
       " {'_id': 3,\n",
       "  'name': 'Marta',\n",
       "  'age': 21,\n",
       "  'city': 'Madrid',\n",
       "  'sports': ['handball', 'basketball']}]"
      ]
     },
     "execution_count": 6,
     "metadata": {},
     "output_type": "execute_result"
    }
   ],
   "source": [
    "list(db.collection.find(\n",
    "    {'city': 'Madrid'}\n",
    "))"
   ]
  },
  {
   "cell_type": "markdown",
   "metadata": {},
   "source": [
    "## Counting results\n",
    "\n",
    "To count how many documents our query returned, we can just use `len()` of the list of results. How many students come from Madrid?"
   ]
  },
  {
   "cell_type": "code",
   "execution_count": 7,
   "metadata": {},
   "outputs": [
    {
     "data": {
      "text/plain": [
       "2"
      ]
     },
     "execution_count": 7,
     "metadata": {},
     "output_type": "execute_result"
    }
   ],
   "source": [
    "len(list(db.collection.find(\n",
    "    {'city': 'Madrid'}\n",
    ")))"
   ]
  },
  {
   "cell_type": "markdown",
   "metadata": {},
   "source": [
    "## Find documents with \"AND\" conditions\n",
    "\n",
    "We simply put one key/value pair per condition:"
   ]
  },
  {
   "cell_type": "code",
   "execution_count": 8,
   "metadata": {},
   "outputs": [
    {
     "data": {
      "text/plain": [
       "[{'_id': 1,\n",
       "  'name': 'John',\n",
       "  'age': 22,\n",
       "  'city': 'Madrid',\n",
       "  'sports': ['soccer', 'handball']}]"
      ]
     },
     "execution_count": 8,
     "metadata": {},
     "output_type": "execute_result"
    }
   ],
   "source": [
    "list(db.collection.find(\n",
    "    {'city': 'Madrid', 'age': 22}\n",
    "))"
   ]
  },
  {
   "cell_type": "markdown",
   "metadata": {},
   "source": [
    "## Find documents by subfields"
   ]
  },
  {
   "cell_type": "code",
   "execution_count": 9,
   "metadata": {},
   "outputs": [
    {
     "data": {
      "text/plain": [
       "[{'_id': 1,\n",
       "  'name': 'John',\n",
       "  'age': 22,\n",
       "  'city': 'Madrid',\n",
       "  'sports': ['soccer', 'handball']}]"
      ]
     },
     "execution_count": 9,
     "metadata": {},
     "output_type": "execute_result"
    }
   ],
   "source": [
    "list(db.collection.find(\n",
    "    {'sports': 'soccer'}\n",
    "))"
   ]
  },
  {
   "cell_type": "markdown",
   "metadata": {},
   "source": [
    "## Range queries\n",
    "    \n",
    "Let's find all students older than 21. We use the operator `\"$gt\"` which means \"greater than\":"
   ]
  },
  {
   "cell_type": "code",
   "execution_count": 10,
   "metadata": {},
   "outputs": [
    {
     "data": {
      "text/plain": [
       "[{'_id': 1,\n",
       "  'name': 'John',\n",
       "  'age': 22,\n",
       "  'city': 'Madrid',\n",
       "  'sports': ['soccer', 'handball']},\n",
       " {'_id': 2, 'name': 'Steve', 'age': 24, 'city': 'Segovia'}]"
      ]
     },
     "execution_count": 10,
     "metadata": {},
     "output_type": "execute_result"
    }
   ],
   "source": [
    "list(db.collection.find(\n",
    "    {'age': {\"$gt\": 21}}\n",
    "))"
   ]
  },
  {
   "cell_type": "markdown",
   "metadata": {},
   "source": [
    "## \"Not equal\" conditions\n",
    "\n",
    "Which students do *not* like soccer?\n",
    "\n",
    "We can find out using operator `$ne`:"
   ]
  },
  {
   "cell_type": "code",
   "execution_count": 11,
   "metadata": {},
   "outputs": [
    {
     "data": {
      "text/plain": [
       "[{'_id': 2, 'name': 'Steve', 'age': 24, 'city': 'Segovia'},\n",
       " {'_id': 3,\n",
       "  'name': 'Marta',\n",
       "  'age': 21,\n",
       "  'city': 'Madrid',\n",
       "  'sports': ['handball', 'basketball']}]"
      ]
     },
     "execution_count": 11,
     "metadata": {},
     "output_type": "execute_result"
    }
   ],
   "source": [
    "list(db.collection.find(\n",
    "    {'sports': {'$ne': 'soccer'}}\n",
    "))"
   ]
  },
  {
   "cell_type": "markdown",
   "metadata": {},
   "source": [
    "## \"Or\" conditions\n",
    "\n",
    "Let's find all students who are older than 21 *or* are from Madrid.\n",
    "\n",
    "We need to use this syntax: `$or: [condition1, condition2]`:"
   ]
  },
  {
   "cell_type": "code",
   "execution_count": 12,
   "metadata": {},
   "outputs": [
    {
     "data": {
      "text/plain": [
       "[{'_id': 1,\n",
       "  'name': 'John',\n",
       "  'age': 22,\n",
       "  'city': 'Madrid',\n",
       "  'sports': ['soccer', 'handball']},\n",
       " {'_id': 2, 'name': 'Steve', 'age': 24, 'city': 'Segovia'},\n",
       " {'_id': 3,\n",
       "  'name': 'Marta',\n",
       "  'age': 21,\n",
       "  'city': 'Madrid',\n",
       "  'sports': ['handball', 'basketball']}]"
      ]
     },
     "execution_count": 12,
     "metadata": {},
     "output_type": "execute_result"
    }
   ],
   "source": [
    "list(db.collection.find(\n",
    "    {'$or': [{'age': {\"$gt\": 21}}, {'city': 'Madrid'}]}\n",
    "))"
   ]
  },
  {
   "cell_type": "markdown",
   "metadata": {},
   "source": [
    "## Find documents where a field exists\n",
    "\n",
    "You can use the operator `$exists` to select only those documents that have a specific field.\n",
    "\n",
    "Let's find out who has information about the sports they like:"
   ]
  },
  {
   "cell_type": "code",
   "execution_count": 13,
   "metadata": {},
   "outputs": [
    {
     "data": {
      "text/plain": [
       "[{'_id': 1,\n",
       "  'name': 'John',\n",
       "  'age': 22,\n",
       "  'city': 'Madrid',\n",
       "  'sports': ['soccer', 'handball']},\n",
       " {'_id': 3,\n",
       "  'name': 'Marta',\n",
       "  'age': 21,\n",
       "  'city': 'Madrid',\n",
       "  'sports': ['handball', 'basketball']}]"
      ]
     },
     "execution_count": 13,
     "metadata": {},
     "output_type": "execute_result"
    }
   ],
   "source": [
    "list(db.collection.find(\n",
    "    { \"sports\" : { \"$exists\" : True } }\n",
    "))"
   ]
  },
  {
   "cell_type": "markdown",
   "metadata": {},
   "source": [
    "# Inserting documents\n",
    "\n",
    "To add one document, use `insert_one(document)`. Let's add a new student:"
   ]
  },
  {
   "cell_type": "code",
   "execution_count": 13,
   "metadata": {},
   "outputs": [
    {
     "data": {
      "text/plain": [
       "<pymongo.results.InsertOneResult at 0x7f17b878e588>"
      ]
     },
     "execution_count": 13,
     "metadata": {},
     "output_type": "execute_result"
    }
   ],
   "source": [
    "db.collection.insert_one(\n",
    "    {'_id': 4, 'name': 'Peter'}\n",
    ")"
   ]
  },
  {
   "cell_type": "markdown",
   "metadata": {},
   "source": [
    "To add several documents in one go, use `insert_many(list of documents)`:"
   ]
  },
  {
   "cell_type": "code",
   "execution_count": 14,
   "metadata": {},
   "outputs": [
    {
     "data": {
      "text/plain": [
       "InsertManyResult([5, 6], acknowledged=True)"
      ]
     },
     "execution_count": 14,
     "metadata": {},
     "output_type": "execute_result"
    }
   ],
   "source": [
    "db.collection.insert_many([\n",
    "    {'_id': 5, 'name': 'Emma'},\n",
    "    {'_id': 6, 'name': 'Diego'}\n",
    "])"
   ]
  },
  {
   "cell_type": "markdown",
   "metadata": {},
   "source": [
    "# Updating documents\n",
    "\n",
    "To update documents matching a condition, use `update_many(condition, information)`.\n",
    "\n",
    "Let's record that Emma likes soccer:"
   ]
  },
  {
   "cell_type": "code",
   "execution_count": 15,
   "metadata": {},
   "outputs": [
    {
     "data": {
      "text/plain": [
       "UpdateResult({'n': 1, 'nModified': 1, 'ok': 1.0, 'updatedExisting': True}, acknowledged=True)"
      ]
     },
     "execution_count": 15,
     "metadata": {},
     "output_type": "execute_result"
    }
   ],
   "source": [
    "db.collection.update_many(\n",
    "    {'name': 'Emma'},\n",
    "    {'$set': {'sports': ['soccer']}}\n",
    ")"
   ]
  },
  {
   "cell_type": "markdown",
   "metadata": {},
   "source": [
    "Let's check that it worked:"
   ]
  },
  {
   "cell_type": "code",
   "execution_count": 16,
   "metadata": {},
   "outputs": [
    {
     "data": {
      "text/plain": [
       "[{'_id': 5, 'name': 'Emma', 'sports': ['soccer']}]"
      ]
     },
     "execution_count": 16,
     "metadata": {},
     "output_type": "execute_result"
    }
   ],
   "source": [
    "list(db.collection.find({'name': 'Emma'}))"
   ]
  },
  {
   "cell_type": "markdown",
   "metadata": {},
   "source": [
    "# Deleting documents\n",
    "\n",
    "To delete documents with a certain condition, use `delete_many(condition)`. Let's delete the student named \"Diego\":"
   ]
  },
  {
   "cell_type": "code",
   "execution_count": 17,
   "metadata": {},
   "outputs": [
    {
     "data": {
      "text/plain": [
       "DeleteResult({'n': 1, 'ok': 1.0}, acknowledged=True)"
      ]
     },
     "execution_count": 17,
     "metadata": {},
     "output_type": "execute_result"
    }
   ],
   "source": [
    "db.collection.delete_many(\n",
    "    {'name': 'Diego'}\n",
    ")"
   ]
  },
  {
   "cell_type": "markdown",
   "metadata": {},
   "source": [
    "We can check that, indeed, that student is no longer in the database:"
   ]
  },
  {
   "cell_type": "code",
   "execution_count": 18,
   "metadata": {},
   "outputs": [
    {
     "data": {
      "text/plain": [
       "[]"
      ]
     },
     "execution_count": 18,
     "metadata": {},
     "output_type": "execute_result"
    }
   ],
   "source": [
    "list(db.collection.find(\n",
    "    {'name': 'Diego'}\n",
    "))"
   ]
  },
  {
   "cell_type": "markdown",
   "metadata": {},
   "source": [
    "# Sorting\n",
    "\n",
    "We can sort a query result by appending `.sort(field, order)`, where `order` should be 1 (for ascending order) or -1 (descending).\n",
    "\n",
    "Let's sort all students by increasing:"
   ]
  },
  {
   "cell_type": "code",
   "execution_count": 22,
   "metadata": {},
   "outputs": [
    {
     "data": {
      "text/plain": [
       "[{'_id': 5, 'name': 'Emma', 'sports': ['soccer']},\n",
       " {'_id': 3,\n",
       "  'name': 'Marta',\n",
       "  'age': 21,\n",
       "  'city': 'Madrid',\n",
       "  'sports': ['handball', 'basketball']},\n",
       " {'_id': 1,\n",
       "  'name': 'John',\n",
       "  'age': 22,\n",
       "  'city': 'Madrid',\n",
       "  'sports': ['soccer', 'handball']},\n",
       " {'_id': 2, 'name': 'Steve', 'age': 24, 'city': 'Segovia'}]"
      ]
     },
     "execution_count": 22,
     "metadata": {},
     "output_type": "execute_result"
    }
   ],
   "source": [
    "list(db.collection.find().sort(\"age\", 1))"
   ]
  },
  {
   "cell_type": "markdown",
   "metadata": {},
   "source": [
    "# Exporting to JSON\n",
    "\n",
    "If you want to save a query result into a JSON file, use `json.dump()` like this:"
   ]
  },
  {
   "cell_type": "code",
   "execution_count": 20,
   "metadata": {},
   "outputs": [],
   "source": [
    "with open(\"students2.json\", \"w\") as f:\n",
    "    json.dump(list(db.collection.find()), f) "
   ]
  },
  {
   "cell_type": "markdown",
   "metadata": {},
   "source": [
    "# Aggregation queries\n",
    "\n",
    "*Aggregations* summarize fields from many documents (for example, compute the sum or the average of a field).\n",
    "\n",
    "This is done with the `$group` keyword. For example, let's find out the average age of all students:\n"
   ]
  },
  {
   "cell_type": "code",
   "execution_count": 21,
   "metadata": {},
   "outputs": [
    {
     "data": {
      "text/plain": [
       "[{'_id': 1, 'average_age': 22.333333333333332}]"
      ]
     },
     "execution_count": 21,
     "metadata": {},
     "output_type": "execute_result"
    }
   ],
   "source": [
    "list(db.collection.aggregate([\n",
    "    {'$group': {'_id': 1, 'average_age': {'$avg': '$age'}}}\n",
    "]))"
   ]
  },
  {
   "cell_type": "markdown",
   "metadata": {},
   "source": [
    "## Aggregate with a condition\n",
    "\n",
    "We can add a condition (`$match`) before `$group` to restrict our aggregation.\n",
    "\n",
    "Let's find the maximum age of all students who come from Madrid:"
   ]
  },
  {
   "cell_type": "code",
   "execution_count": 22,
   "metadata": {},
   "outputs": [
    {
     "data": {
      "text/plain": [
       "[{'_id': 1, 'max_madrid_age': 22}]"
      ]
     },
     "execution_count": 22,
     "metadata": {},
     "output_type": "execute_result"
    }
   ],
   "source": [
    "list(db.collection.aggregate([\n",
    "    {'$match': {'city': 'Madrid'}},\n",
    "    {'$group': {'_id': 1, 'max_madrid_age': {'$max': '$age'}}}\n",
    "]))"
   ]
  }
 ],
 "metadata": {
  "kernelspec": {
   "display_name": "Python 3",
   "language": "python",
   "name": "python3"
  },
  "language_info": {
   "codemirror_mode": {
    "name": "ipython",
    "version": 3
   },
   "file_extension": ".py",
   "mimetype": "text/x-python",
   "name": "python",
   "nbconvert_exporter": "python",
   "pygments_lexer": "ipython3",
   "version": "3.10.13"
  }
 },
 "nbformat": 4,
 "nbformat_minor": 4
}
