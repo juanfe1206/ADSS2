{
 "cells": [
  {
   "cell_type": "markdown",
   "metadata": {},
   "source": [
    "# Exercise: Titanic Database\n",
    "    \n",
    "The JSON file `titanic.json` contains information about 1000+ passengers that were aboard the Titanic when it sunk in 1912. It's a document database: not all entries have the same fields, since there is a lot of missing data."
   ]
  },
  {
   "cell_type": "markdown",
   "metadata": {},
   "source": [
    "**1) Using pymongo, load the JSON file into a MongoDB database.**"
   ]
  },
  {
   "cell_type": "markdown",
   "metadata": {},
   "source": [
    "**2) Find out exactly how many passengers (number of documents) there are in the database.**"
   ]
  },
  {
   "cell_type": "markdown",
   "metadata": {},
   "source": [
    "**3) How old was passenger \"Bourke, Mr. John\"? (use the fields `name` and `age`)**"
   ]
  },
  {
   "cell_type": "markdown",
   "metadata": {},
   "source": [
    "**4) The field `survived` tells us whether a passenger survived (value 1) or not (value 0). Find out how many survived and how many did not (note: many have missing data).**"
   ]
  },
  {
   "cell_type": "markdown",
   "metadata": {},
   "source": [
    "**5) Who was the oldest survivor of the Titanic?**"
   ]
  },
  {
   "cell_type": "markdown",
   "metadata": {},
   "source": [
    "**6) Find the survival rate (survivors/total) for each ticket class. (use the field `class`. There were three: 1, 2, 3)**"
   ]
  },
  {
   "cell_type": "markdown",
   "metadata": {},
   "source": [
    "**7) Which five passengers paid the five highest ticket prices? (use the field `fare`)**"
   ]
  }
 ],
 "metadata": {
  "kernelspec": {
   "display_name": "Python 3",
   "language": "python",
   "name": "python3"
  },
  "language_info": {
   "codemirror_mode": {
    "name": "ipython",
    "version": 3
   },
   "file_extension": ".py",
   "mimetype": "text/x-python",
   "name": "python",
   "nbconvert_exporter": "python",
   "pygments_lexer": "ipython3",
   "version": "3.7.4"
  }
 },
 "nbformat": 4,
 "nbformat_minor": 4
}
